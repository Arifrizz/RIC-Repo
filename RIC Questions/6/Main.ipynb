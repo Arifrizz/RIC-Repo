{
 "cells": [
  {
   "cell_type": "code",
   "execution_count": 1,
   "id": "f93f2dae-7d16-4f9d-8328-41b56f8c350e",
   "metadata": {
    "scrolled": true
   },
   "outputs": [
    {
     "name": "stdout",
     "output_type": "stream",
     "text": [
      "Requirement already satisfied: transformers in c:\\users\\arif\\appdata\\local\\programs\\python\\python312\\lib\\site-packages (4.44.2)\n",
      "Requirement already satisfied: pytesseract in c:\\users\\arif\\appdata\\local\\programs\\python\\python312\\lib\\site-packages (0.3.13)\n",
      "Requirement already satisfied: pillow in c:\\users\\arif\\appdata\\local\\programs\\python\\python312\\lib\\site-packages (10.3.0)\n",
      "Requirement already satisfied: filelock in c:\\users\\arif\\appdata\\local\\programs\\python\\python312\\lib\\site-packages (from transformers) (3.14.0)\n",
      "Requirement already satisfied: huggingface-hub<1.0,>=0.23.2 in c:\\users\\arif\\appdata\\local\\programs\\python\\python312\\lib\\site-packages (from transformers) (0.24.6)\n",
      "Requirement already satisfied: numpy>=1.17 in c:\\users\\arif\\appdata\\local\\programs\\python\\python312\\lib\\site-packages (from transformers) (1.26.4)\n",
      "Requirement already satisfied: packaging>=20.0 in c:\\users\\arif\\appdata\\local\\programs\\python\\python312\\lib\\site-packages (from transformers) (24.0)\n",
      "Requirement already satisfied: pyyaml>=5.1 in c:\\users\\arif\\appdata\\local\\programs\\python\\python312\\lib\\site-packages (from transformers) (6.0.1)\n",
      "Requirement already satisfied: regex!=2019.12.17 in c:\\users\\arif\\appdata\\local\\programs\\python\\python312\\lib\\site-packages (from transformers) (2024.7.24)\n",
      "Requirement already satisfied: requests in c:\\users\\arif\\appdata\\local\\programs\\python\\python312\\lib\\site-packages (from transformers) (2.31.0)\n",
      "Requirement already satisfied: safetensors>=0.4.1 in c:\\users\\arif\\appdata\\local\\programs\\python\\python312\\lib\\site-packages (from transformers) (0.4.4)\n",
      "Requirement already satisfied: tokenizers<0.20,>=0.19 in c:\\users\\arif\\appdata\\local\\programs\\python\\python312\\lib\\site-packages (from transformers) (0.19.1)\n",
      "Requirement already satisfied: tqdm>=4.27 in c:\\users\\arif\\appdata\\local\\programs\\python\\python312\\lib\\site-packages (from transformers) (4.66.2)\n",
      "Requirement already satisfied: fsspec>=2023.5.0 in c:\\users\\arif\\appdata\\local\\programs\\python\\python312\\lib\\site-packages (from huggingface-hub<1.0,>=0.23.2->transformers) (2024.6.1)\n",
      "Requirement already satisfied: typing-extensions>=3.7.4.3 in c:\\users\\arif\\appdata\\local\\programs\\python\\python312\\lib\\site-packages (from huggingface-hub<1.0,>=0.23.2->transformers) (4.11.0)\n",
      "Requirement already satisfied: colorama in c:\\users\\arif\\appdata\\local\\programs\\python\\python312\\lib\\site-packages (from tqdm>=4.27->transformers) (0.4.6)\n",
      "Requirement already satisfied: charset-normalizer<4,>=2 in c:\\users\\arif\\appdata\\local\\programs\\python\\python312\\lib\\site-packages (from requests->transformers) (3.3.2)\n",
      "Requirement already satisfied: idna<4,>=2.5 in c:\\users\\arif\\appdata\\local\\programs\\python\\python312\\lib\\site-packages (from requests->transformers) (3.7)\n",
      "Requirement already satisfied: urllib3<3,>=1.21.1 in c:\\users\\arif\\appdata\\local\\programs\\python\\python312\\lib\\site-packages (from requests->transformers) (2.2.1)\n",
      "Requirement already satisfied: certifi>=2017.4.17 in c:\\users\\arif\\appdata\\local\\programs\\python\\python312\\lib\\site-packages (from requests->transformers) (2024.2.2)\n",
      "Note: you may need to restart the kernel to use updated packages.\n"
     ]
    },
    {
     "name": "stderr",
     "output_type": "stream",
     "text": [
      "\n",
      "[notice] A new release of pip is available: 24.0 -> 24.2\n",
      "[notice] To update, run: python.exe -m pip install --upgrade pip\n"
     ]
    }
   ],
   "source": [
    "pip install transformers pytesseract pillow"
   ]
  },
  {
   "cell_type": "code",
   "execution_count": 2,
   "id": "ba0b02c3-a185-4276-916d-860459f0e9e0",
   "metadata": {},
   "outputs": [
    {
     "name": "stdout",
     "output_type": "stream",
     "text": [
      "Requirement already satisfied: sentencepiece in c:\\users\\arif\\appdata\\local\\programs\\python\\python312\\lib\\site-packages (0.2.0)\n",
      "Note: you may need to restart the kernel to use updated packages.\n"
     ]
    },
    {
     "name": "stderr",
     "output_type": "stream",
     "text": [
      "\n",
      "[notice] A new release of pip is available: 24.0 -> 24.2\n",
      "[notice] To update, run: python.exe -m pip install --upgrade pip\n"
     ]
    }
   ],
   "source": [
    "pip install sentencepiece"
   ]
  },
  {
   "cell_type": "code",
   "execution_count": null,
   "id": "7169822c-4cff-45be-b0ac-4424c1fa83f0",
   "metadata": {},
   "outputs": [],
   "source": [
    "pip install torch"
   ]
  },
  {
   "cell_type": "code",
   "execution_count": 1,
   "id": "d485e394-a8e4-4fb4-a2c0-165930798646",
   "metadata": {},
   "outputs": [],
   "source": [
    "from transformers import MarianMTModel, MarianTokenizer\n",
    "from PIL import Image\n",
    "import pytesseract\n",
    "import sentencepiece  # Ensure that sentencepiece is installed\n",
    "import torch"
   ]
  },
  {
   "cell_type": "code",
   "execution_count": 2,
   "id": "568c06d1-f970-4179-bdd0-3fa26681f8bb",
   "metadata": {},
   "outputs": [],
   "source": [
    "image_path = 'E:/Pain/Project/Translator/image.jpg'  # Replace with your image path\n",
    "src_lang = 'en'  # Source language code (English)\n",
    "tgt_lang = 'fr'  # Target language code (French)"
   ]
  },
  {
   "cell_type": "code",
   "execution_count": 14,
   "id": "7d421ea8-b728-4950-ade6-49ea4d5bbcc4",
   "metadata": {},
   "outputs": [],
   "source": [
    "def extract_text_from_image(image_path):\n",
    "    img = Image.open(image_path)\n",
    "    text = pytesseract.image_to_string(img)\n",
    "    return text"
   ]
  },
  {
   "cell_type": "code",
   "execution_count": 4,
   "id": "0cb70fc1-e332-4b5f-80e8-c7551c75fa0e",
   "metadata": {},
   "outputs": [],
   "source": [
    "def load_translation_model(src_lang, tgt_lang):\n",
    "    model_name = f'Helsinki-NLP/opus-mt-{src_lang}-{tgt_lang}'\n",
    "    tokenizer = MarianTokenizer.from_pretrained(model_name)\n",
    "    model = MarianMTModel.from_pretrained(model_name)\n",
    "    return model, tokenizer"
   ]
  },
  {
   "cell_type": "code",
   "execution_count": 5,
   "id": "1e44e4f7-8772-4047-bd36-57d0556b3fb3",
   "metadata": {},
   "outputs": [],
   "source": [
    "def translate_text(text, model, tokenizer, max_length=512):\n",
    "    # Split the text into smaller chunks\n",
    "    sentences = text.split('. ')  # Split by sentence\n",
    "    translated_sentences = []\n",
    "    \n",
    "    for sentence in sentences:\n",
    "        batch = tokenizer([sentence], return_tensors=\"pt\", padding=True, truncation=True, max_length=max_length)\n",
    "        translated = model.generate(**batch)\n",
    "        tgt_text = [tokenizer.decode(t, skip_special_tokens=True) for t in translated]\n",
    "        translated_sentences.append(tgt_text[0])\n",
    "    \n",
    "    # Join the translated sentences back together\n",
    "    return ' '.join(translated_sentences)"
   ]
  },
  {
   "cell_type": "code",
   "execution_count": 6,
   "id": "263b6f3e-8714-4f8c-abef-a2540270d14a",
   "metadata": {},
   "outputs": [],
   "source": [
    "def main(image_path, src_lang, tgt_lang):\n",
    "    # Extract text from the image\n",
    "    extracted_text = extract_text_from_image(image_path)\n",
    "    print(f\"Extracted Text: {extracted_text}\")\n",
    "    \n",
    "    # Load the translation model and tokenizer\n",
    "    try:\n",
    "        model, tokenizer = load_translation_model(src_lang, tgt_lang)\n",
    "    except Exception as e:\n",
    "        print(f\"Error loading translation model: {e}\")\n",
    "        return\n",
    "    \n",
    "    # Translate the extracted text\n",
    "    translated_text = translate_text(extracted_text, model, tokenizer)\n",
    "    print(f\"Translated Text: {translated_text}\")"
   ]
  },
  {
   "cell_type": "code",
   "execution_count": 7,
   "id": "25d52ec1-2983-487c-8f58-68b291d180d6",
   "metadata": {},
   "outputs": [],
   "source": [
    "if __name__ == \"__main__\":\n",
    "    main(image_path, src_lang, tgt_lang)"
   ]
  },
  {
   "cell_type": "code",
   "execution_count": null,
   "id": "b6483faa-68ae-4843-b2ed-db39549c0e01",
   "metadata": {},
   "outputs": [],
   "source": []
  }
 ],
 "metadata": {
  "kernelspec": {
   "display_name": "Python 3 (ipykernel)",
   "language": "python",
   "name": "python3"
  },
  "language_info": {
   "codemirror_mode": {
    "name": "ipython",
    "version": 3
   },
   "file_extension": ".py",
   "mimetype": "text/x-python",
   "name": "python",
   "nbconvert_exporter": "python",
   "pygments_lexer": "ipython3",
   "version": "3.12.3"
  }
 },
 "nbformat": 4,
 "nbformat_minor": 5
}
